{
 "cells": [
  {
   "cell_type": "code",
   "execution_count": 1,
   "metadata": {},
   "outputs": [],
   "source": [
    "import numpy as np\n",
    "from sklearn.cluster import DBSCAN\n",
    "from sklearn import metrics"
   ]
  },
  {
   "cell_type": "code",
   "execution_count": 2,
   "metadata": {},
   "outputs": [],
   "source": [
    "# #############################################################################\n",
    "# Get data\n",
    "from superdarn_cluster.dbtools import flatten_data_11_features, read_db\n",
    "import datetime as dt\n",
    "\n",
    "start_time = dt.datetime(2018, 2, 7, 12)\n",
    "end_time = dt.datetime(2018, 2, 7, 14)\n",
    "rad = 'sas'\n",
    "db_path = \"./Data/sas_GSoC_2018-02-07.db\"\n",
    "b = 0\n",
    "data_dict = read_db(db_path, rad, start_time, end_time)\n",
    "data_flat_unscaled = flatten_data_11_features(data_dict, remove_close_range=True)"
   ]
  },
  {
   "cell_type": "code",
   "execution_count": 3,
   "metadata": {},
   "outputs": [
    {
     "data": {
      "text/plain": [
       "'0.19.1'"
      ]
     },
     "execution_count": 3,
     "metadata": {},
     "output_type": "execute_result"
    }
   ],
   "source": [
    "import sklearn\n",
    "sklearn.__version__"
   ]
  },
  {
   "cell_type": "code",
   "execution_count": 4,
   "metadata": {},
   "outputs": [],
   "source": [
    "\n",
    "import matplotlib.pyplot as plt\n",
    "from sklearn.preprocessing import scale\n",
    "feature_names = ['beam', 'gate', 'vel', 'wid', 'power', 'freq', 'time', 'phi0', 'elev', 'nsky', 'nsch']\n",
    "\n",
    "gate = data_flat_unscaled[:, 1]\n",
    "power = data_flat_unscaled[:, 4]\n",
    "beam = data_flat_unscaled[:, 0]\n",
    "vel = data_flat_unscaled[:, 2]\n",
    "\n",
    "time = data_flat_unscaled[:, 6]\n",
    "#time = (time - np.floor(time)) * 24 * 60 * 60 / secs_per_measurement"
   ]
  },
  {
   "cell_type": "code",
   "execution_count": 5,
   "metadata": {
    "scrolled": false
   },
   "outputs": [
    {
     "name": "stdout",
     "output_type": "stream",
     "text": [
      "1.5750415273942038e-08\n-0.0015429697391682318\n-1.0\n-1.0\n"
     ]
    }
   ],
   "source": [
    "# What matters for scaling this is the size of each step between these (discrete) measurements.\n",
    "# If you want to connect things within 1 range gate and 1 beam, do no scaling and set eps ~= 1.1\n",
    "# If you want to connect things within 6 time measurements, scale it so that 6 * dt = 1 and eps ~= 1.1\n",
    "# Time has some gaps in between each scan of 16 beams, so epsilon should be large enough\n",
    "scaled_time = (time - time[0]) * 0.000467 #(time - np.floor(time)) * 24 * 60 * 60 \n",
    "uniq_time = np.sort(np.unique(scaled_time))\n",
    "shifted_time = np.roll(uniq_time, -1)\n",
    "dt = np.min((shifted_time - uniq_time)[:-1])\n",
    "scaled_time = scale(scaled_time / (dt))\n",
    "print(dt)\n",
    "# Divide by variance and center mean at 0\n",
    "scaled_gate = gate\n",
    "scaled_beam = beam\n",
    "\n",
    "sorted_time = np.sort(np.unique(scaled_time))[:20]\n",
    "print(sorted_time[0] - sorted_time[1])\n",
    "\n",
    "sorted_gate = np.sort(np.unique(scaled_gate))[:10]\n",
    "print(sorted_gate[0] - sorted_gate[1])\n",
    "\n",
    "sorted_beam = np.sort(np.unique(scaled_beam))[:10]\n",
    "print(sorted_beam[0] - sorted_beam[1])\n"
   ]
  },
  {
   "cell_type": "code",
   "execution_count": 9,
   "metadata": {},
   "outputs": [
    {
     "name": "stdout",
     "output_type": "stream",
     "text": [
      "(4431, 3)\n"
     ]
    }
   ],
   "source": [
    "X = np.column_stack((beam, gate, time))\n",
    "print(X.shape)\n"
   ]
  },
  {
   "cell_type": "code",
   "execution_count": 10,
   "metadata": {},
   "outputs": [
    {
     "name": "stderr",
     "output_type": "stream",
     "text": [
      "/home/anne/clustering_superdarn_data/superdarn_cluster/stdbscan.py:41: FutureWarning: set_value is deprecated and will be removed in a future release. Please use .at[] or .iat[] accessors instead\n  df.set_value(index, 'cluster', cluster_label)\n/home/anne/clustering_superdarn_data/superdarn_cluster/stdbscan.py:45: FutureWarning: set_value is deprecated and will be removed in a future release. Please use .at[] or .iat[] accessors instead\n  df.set_value(neig_index, 'cluster', cluster_label)\n"
     ]
    },
    {
     "name": "stderr",
     "output_type": "stream",
     "text": [
      "/home/anne/clustering_superdarn_data/superdarn_cluster/stdbscan.py:37: FutureWarning: set_value is deprecated and will be removed in a future release. Please use .at[] or .iat[] accessors instead\n  df.set_value(index, 'cluster', noise)\n"
     ]
    },
    {
     "name": "stdout",
     "output_type": "stream",
     "text": [
      "[ -1   1   2   3   4   5   6   7   8   9  10  11  12  13  14  15  16  17\n  18  19  20  21  22  23  24  25  26  27  28  29  30  31  32  33  34  35\n  36  37  38  39  40  41  42  43  44  45  46  47  48  49  50  51  52  53\n  54  55  56  57  58  59  60  61  62  63  64  65  66  67  68  69  70  71\n  72  73  74  75  76  77  78  79  80  81  82  83  84  85  86  87  88  89\n  90  91  92  93  94  95  96  97  98  99 100 101 102 103 104 105 106 107\n 108 109 110]\n"
     ]
    }
   ],
   "source": [
    "# ~~ ST-DBSCAN ~~\n",
    "from superdarn_cluster.stdbscan import st_dbscan\n",
    "import pandas as pd\n",
    "\n",
    "space_eps = 4\n",
    "time_eps = 12\n",
    "df = pd.DataFrame(X, columns=['x', 'y', 'time'])\n",
    "# slooooow\n",
    "df = st_dbscan(df, spatial_threshold=space_eps, temporal_threshold=time_eps, min_neighbors=min_pts)\n",
    "\n",
    "print(np.unique(df['cluster']))\n"
   ]
  },
  {
   "cell_type": "code",
   "execution_count": null,
   "metadata": {},
   "outputs": [],
   "source": []
  },
  {
   "cell_type": "code",
   "execution_count": 12,
   "metadata": {},
   "outputs": [
    {
     "name": "stdout",
     "output_type": "stream",
     "text": [
      "Estimated number of clusters: 37\n",
      "[ 1  1  1  1  1  1  1  1  1  1  1  1  1  1  1  1  1  1  1  1  1  1  1  1\n",
      "  1  1  1  1  1  1  1  1  1  1  1  1  1  1  1  1  1  1  1  1  1  1  1  1\n",
      "  1  1 -1  1 -1  1  1  1  1  1  1  1  1  1  1  1  1  1  1  1  1  1  1  1\n",
      "  1  1  1  1  1  1  1  1  1  1  1  1  1  1  1 -1 -1  1  1  1  1  1  1  1\n",
      "  1  1  1  1]\n"
     ]
    }
   ],
   "source": [
    "# ~~ DBSCAN ~~\n",
    "eps, minPts = 1.5, 4\n",
    "# db = DBSCAN(eps=eps, min_samples=minPts).fit(X)\n",
    "core_samples_mask = np.zeros_like(db.labels_, dtype=bool)\n",
    "core_samples_mask[db.core_sample_indices_] = True\n",
    "labels = db.labels_\n",
    "\n",
    "# Number of clusters in labels, ignoring noise if present.\n",
    "n_clusters_ = len(set(labels)) - (1 if -1 in labels else 0)\n",
    "print('Estimated number of clusters: %d' % n_clusters_)\n",
    "print(labels[:100])"
   ]
  },
  {
   "cell_type": "code",
   "execution_count": 19,
   "metadata": {},
   "outputs": [
    {
     "name": "stdout",
     "output_type": "stream",
     "text": [
      "0         1\n1         2\n2         3\n3         4\n4         5\n5         6\n6         7\n7         8\n8         9\n9        10\n10       11\n11       12\n12       13\n13       14\n14       15\n15       16\n16       17\n17        1\n18        2\n19        3\n20        4\n21        6\n22        7\n23        8\n24        9\n25       11\n26       12\n27       13\n28       14\n29       15\n       ... \n4401     24\n4402     99\n4403    104\n4404      2\n4405     52\n4406    108\n4407     87\n4408      3\n4409     25\n4410     76\n4411     89\n4412      4\n4413      5\n4414     74\n4415    107\n4416      6\n4417      7\n4418     39\n4419      8\n4420      9\n4421     42\n4422     43\n4423     51\n4424     11\n4425     12\n4426     13\n4427     15\n4428     53\n4429     17\n4430     33\nName: cluster, Length: 4431, dtype: int64\n"
     ]
    }
   ],
   "source": [
    "#print('Estimated number of clusters: %d' % n_clusters_)\n",
    "print(df['cluster'])\n",
    "labels = np.array(df['cluster'])\n",
    "n_clusters_ = len(set(labels)) - (1 if -1 in labels else 0)"
   ]
  },
  {
   "cell_type": "code",
   "execution_count": 14,
   "metadata": {},
   "outputs": [],
   "source": [
    ""
   ]
  },
  {
   "cell_type": "code",
   "execution_count": 34,
   "metadata": {},
   "outputs": [
    {
     "data": {
      "image/png": "[encoded data removed]",
      "text/plain": [
       "<Figure size 1152x576 with 1 Axes>"
      ]
     },
     "metadata": {},
     "output_type": "display_data"
    }
   ],
   "source": [
    "# #############################################################################\n",
    "# Plot result\n",
    "\n",
    "# Black removed and is used for noise instead.\n",
    "unique_labels = set(labels)\n",
    "colors = [plt.cm.Spectral(each)\n",
    "          for each in np.linspace(0, 1, len(unique_labels))]\n",
    "range_max = data_dict['nrang'][0]\n",
    "\n",
    "\n",
    "fig = plt.figure(figsize=(16, 8))\n",
    "\n",
    "for k, col in zip(unique_labels, colors):\n",
    "    if k == -1:\n",
    "        # Black used for noise.\n",
    "        col = [0, 0, 0, 1]\n",
    "\n",
    "\n",
    "    class_member_mask = (labels == k)\n",
    "    #beam_mask = (beam == b)\n",
    "    \n",
    "    #print(class_member_mask.shape)\n",
    "    \n",
    "    #print(X.shape)\n",
    "\n",
    "    xy = X[class_member_mask, :]\n",
    "    #print(xy.shape)\n",
    "    plt.plot(xy[:, 0], xy[:, 1], '.', color=tuple(col), markersize=3)\n",
    "\n",
    "    #xy = X[class_member_mask & beam_mask]\n",
    "    #plt.plot(xy[:, 0], xy[:, 1], '.', color=tuple(col), markersize=3)\n",
    "\n",
    "#plt.xlim((np.min(time), np.max(time)))\n",
    "#plt.ylim((0, range_max))\n",
    "plt.title('Beam %d \\n Clusters: %d   Eps1: %.2f   Eps2: %.2f   MinPts: %d ' % (b, n_clusters_, space_eps, time_eps, min_pts))\n",
    "plt.show()\n",
    "#plt.savefig('sas beam ' + str(b) + ' dbscan clusters.png')\n",
    "#plt.close()\n"
   ]
  },
  {
   "cell_type": "code",
   "execution_count": 21,
   "metadata": {},
   "outputs": [],
   "source": [
    "from superdarn_cluster.utilities import plot_clusters\n",
    "\n",
    "stats_i = [0, 1, 2, 3, 4, 7, 8]\n",
    "data_flat_unscaled[:, 2] = np.abs(data_flat_unscaled[:, 2])\n",
    "data_flat_unscaled[:, 2] = np.abs(data_flat_unscaled[:, 2])\n",
    "\n",
    "plot_clusters(labels, data_flat_unscaled[:, stats_i], data_flat_unscaled[:, 6], \n",
    "               gate, vel, np.array(feature_names)[stats_i], range_max, start_time, end_time, save=True)"
   ]
  }
 ],
 "metadata": {
  "kernelspec": {
   "display_name": "Python 2",
   "language": "python",
   "name": "python2"
  },
  "language_info": {
   "codemirror_mode": {
    "name": "ipython",
    "version": 3
   },
   "file_extension": ".py",
   "mimetype": "text/x-python",
   "name": "python",
   "nbconvert_exporter": "python",
   "pygments_lexer": "ipython3",
   "version": "3.6.5"
  }
 },
 "nbformat": 4,
 "nbformat_minor": 1
}
