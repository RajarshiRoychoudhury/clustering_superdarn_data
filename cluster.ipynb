{
 "cells": [
  {
   "cell_type": "markdown",
   "metadata": {},
   "source": []
  },
  {
   "cell_type": "code",
   "execution_count": 5,
   "metadata": {},
   "outputs": [
    {
     "name": "stdout",
     "output_type": "stream",
     "text": [
      "[ 0  1  2  3  4  5  6  7  8  9 10 11 12 13 14 15 16 17 18 19 20 21 22 23\n",
      " 24 25 26 27 28 29]\n",
      "386.6568977832794\n"
     ]
    }
   ],
   "source": [
    "from algorithms.gmm import GMM\n",
    "import datetime\n",
    "\n",
    "start_time =  datetime.datetime(2018, 2, 7)\n",
    "end_time =  datetime.datetime(2018, 2, 8)\n",
    "gmm = GMM(start_time, end_time, 'cvw', n_clusters=30, useSavedResult=False, BoxCox=False)\n",
    "gmm.save_result()  # Save cluster labels so that GMM doesn't have to run again with these params\n",
    "print(gmm.runtime)"
   ]
  },
  {
   "cell_type": "code",
   "execution_count": null,
   "metadata": {},
   "outputs": [],
   "source": [
    "%matplotlib inline\n",
    "# Make RTI plots to compare AJ's threshold with traditional threshold\n",
    "gmm.plot_rti(14, 'Ribiero', save=True)           # Slooow\n",
    "# Make fanplots of the individual clusters over some time period\n",
    "fanplot_start =  datetime.datetime(2018, 2, 7, 12, 0, 0)\n",
    "fanplot_end =  datetime.datetime(2018, 2, 7, 12, 0, 0)\n",
    "gmm.plot_fanplots(fanplot_start, fanplot_end)"
   ]
  },
  {
   "cell_type": "code",
   "execution_count": null,
   "metadata": {},
   "outputs": [],
   "source": [
    "from algorithms.dbscan_gmm import DBSCAN_GMM\n",
    "import datetime\n",
    "\n",
    "start_time =  datetime.datetime(2017, 4, 4)\n",
    "end_time =  datetime.datetime(2017, 4, 5)\n",
    "dbgmm = DBSCAN_GMM(start_time, end_time, 'sas', useSavedResult=True, BoxCox=True)\n",
    "dbgmm.save_result()\n",
    "print(dbgmm.runtime)"
   ]
  },
  {
   "cell_type": "code",
   "execution_count": null,
   "metadata": {},
   "outputs": [],
   "source": [
    "%matplotlib inline\n",
    "# Make RTI plots to compare AJ's threshold with traditional threshold\n",
    "dbgmm.plot_rti(9, 'Ribiero', save=True, vel_max=100, vel_step=10)           # Each of these take ~1 minute\n",
    "# Make fanplots of the individual clusters over some time period\n",
    "fanplot_start =  datetime.datetime(2017, 4, 4, 4, 0, 0)\n",
    "fanplot_end =  datetime.datetime(2017, 4, 4, 4, 0, 0)\n",
    "dbgmm.plot_fanplots(fanplot_start, fanplot_end, save=True)"
   ]
  },
  {
   "cell_type": "code",
   "execution_count": null,
   "metadata": {},
   "outputs": [],
   "source": [
    "from algorithms.grid_based_dbscan import GridBasedDBSCAN\n",
    "gbdb = GridBasedDBSCAN(start_time, end_time, 'cvw', useSavedResult=False)\n",
    "gbdb.save_result()\n",
    "print(gbdb.runtime)"
   ]
  },
  {
   "cell_type": "code",
   "execution_count": null,
   "metadata": {},
   "outputs": [],
   "source": [
    "# Make RTI plots to compare AJ's threshold with traditional threshold\n",
    "gbdb.plot_rti(14, 'Ribiero', save=True)\n",
    "gbdb.plot_fanplots(fanplot_start, fanplot_end, save=True)"
   ]
  },
  {
   "cell_type": "code",
   "execution_count": null,
   "metadata": {},
   "outputs": [],
   "source": [
    "from algorithms.GridBasedDBSCAN_GMM import GridBasedDBSCAN_GMM\n",
    "gbdb_gmm = GridBasedDBSCAN_GMM(start_time, end_time, 'cvw', useSavedResult=False)\n",
    "gbdb_gmm.save_result()\n",
    "print(gbdb_gmm.runtime)"
   ]
  },
  {
   "cell_type": "code",
   "execution_count": null,
   "metadata": {},
   "outputs": [],
   "source": [
    "# Make RTI plots to compare AJ's threshold with traditional threshold\n",
    "gbdb_gmm.plot_rti(14, 'Ribiero', save=True)\n",
    "gbdb_gmm.plot_fanplots(fanplot_start, fanplot_end, save=True)"
   ]
  }
 ],
 "metadata": {
  "kernelspec": {
   "display_name": "Python 3",
   "language": "python",
   "name": "python3"
  },
  "language_info": {
   "codemirror_mode": {
    "name": "ipython",
    "version": 3
   },
   "file_extension": ".py",
   "mimetype": "text/x-python",
   "name": "python",
   "nbconvert_exporter": "python",
   "pygments_lexer": "ipython3",
   "version": "3.5.2"
  }
 },
 "nbformat": 4,
 "nbformat_minor": 1
}
