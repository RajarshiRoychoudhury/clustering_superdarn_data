{
 "cells": [
  {
   "cell_type": "markdown",
   "metadata": {},
   "source": [
    "# GridBasedDBSCAN\n",
    "\n",
    "Grid-based DBSCAN is a modification of regular DBSCAN designed for automotive  \n",
    "radars. It assumes close objects will appear wider, and distant objects will  \n",
    "appear narrower, and varies the search area accordingly. See Kellner et al. 2012.  \n",
    "It is not yet clear whether this assumption is advantageous for SuperDARN data.\n",
    "\n",
    "My implementation of GBDBSCAN has not been optimized to the extent sklearn's  \n",
    "DBSCAN has, so it takes 5-10 minutes, but there is room for improvement. So far,  \n",
    "it provides similar performace to DBSCAN, but creates less small clusters at   \n",
    "close ranges due to its wide search area.\n",
    "\n",
    "Parameters for each algorithm are set to default values (shown below), but can  \n",
    "be modified using the class constructor.\n",
    "\n",
    "### Optional arguments for GridbasedDBSCAN_GMM class constructor\n",
    "\n",
    "#### GridBasedDBSCAN\n",
    "     f=0.2\n",
    "        Used to calculate the width of the search area at a given range gate:\n",
    "          beam_eps = g / (f * radial_dist / angular_dist)\n",
    "        Best values for our data are typically f=0.1-0.4\n",
    "\n",
    "     g=1\n",
    "         See above formula.\n",
    "         Best values for our data are typically g=1-3\n",
    "         \n",
    "     pts_ratio=0.3\n",
    "         The ratio of (actual observations) / (possible observations) for points\n",
    "         to be considered part of a core cluster.\n",
    "         Since the search area changes size, this parameter is used instead of\n",
    "         DBSCAN's MinPts. Possible observations is the number of points that\n",
    "         could appear within the search area, so pts_ratio=0.3 means 30% of\n",
    "         the search area needs to contain points in order to create a core\n",
    "         cluster.\n",
    "     \n",
    "     dr=45\n",
    "         The distance between each range gate (for SuperDARN radars, 45 km).\n",
    "         Make sure units are consistent with r_init.\n",
    "     \n",
    "     dtheta=3.24\n",
    "         The angular difference between each beam, in degrees.\n",
    "     \n",
    "     r_init=180\n",
    "         The distance to the first range gate (for SuperDARN radars, 180km).\n",
    "         Make sure units are consistent with dr.\n",
    "     \n",
    "     scan_eps=1\n",
    "         Determines the scan number radius of the search area for GridBasedDBSCAN. \n",
    "         If this is 1, two points must come from adjacent scans (i.e., both from \n",
    "         beam 3 in 2 subsequent measurements) to be considered neighbors."
   ]
  },
  {
   "cell_type": "code",
   "execution_count": 3,
   "metadata": {},
   "outputs": [
    {
     "ename": "ImportError",
     "evalue": "No module named 'algorithms'",
     "output_type": "error",
     "traceback": [
      "\u001b[0;31m---------------------------------------------------------------------------\u001b[0m",
      "\u001b[0;31mImportError\u001b[0m                               Traceback (most recent call last)",
      "\u001b[0;32m<ipython-input-3-17d3130f3ad8>\u001b[0m in \u001b[0;36m<module>\u001b[0;34m()\u001b[0m\n\u001b[0;32m----> 1\u001b[0;31m \u001b[0;32mfrom\u001b[0m \u001b[0malgorithms\u001b[0m\u001b[0;34m.\u001b[0m\u001b[0mgrid_based_dbscan\u001b[0m \u001b[0;32mimport\u001b[0m \u001b[0mGridBasedDBSCAN\u001b[0m\u001b[0;34m\u001b[0m\u001b[0m\n\u001b[0m\u001b[1;32m      2\u001b[0m \u001b[0;34m\u001b[0m\u001b[0m\n\u001b[1;32m      3\u001b[0m \u001b[0mstart_time\u001b[0m \u001b[0;34m=\u001b[0m  \u001b[0mdatetime\u001b[0m\u001b[0;34m.\u001b[0m\u001b[0mdatetime\u001b[0m\u001b[0;34m(\u001b[0m\u001b[0;36m2017\u001b[0m\u001b[0;34m,\u001b[0m \u001b[0;36m4\u001b[0m\u001b[0;34m,\u001b[0m \u001b[0;36m4\u001b[0m\u001b[0;34m)\u001b[0m\u001b[0;34m\u001b[0m\u001b[0m\n\u001b[1;32m      4\u001b[0m \u001b[0mend_time\u001b[0m \u001b[0;34m=\u001b[0m  \u001b[0mdatetime\u001b[0m\u001b[0;34m.\u001b[0m\u001b[0mdatetime\u001b[0m\u001b[0;34m(\u001b[0m\u001b[0;36m2017\u001b[0m\u001b[0;34m,\u001b[0m \u001b[0;36m4\u001b[0m\u001b[0;34m,\u001b[0m \u001b[0;36m5\u001b[0m\u001b[0;34m)\u001b[0m\u001b[0;34m\u001b[0m\u001b[0m\n\u001b[1;32m      5\u001b[0m \u001b[0mgbdb\u001b[0m \u001b[0;34m=\u001b[0m \u001b[0mGBDBSCAN\u001b[0m\u001b[0;34m(\u001b[0m\u001b[0mstart_time\u001b[0m\u001b[0;34m,\u001b[0m \u001b[0mend_time\u001b[0m\u001b[0;34m,\u001b[0m \u001b[0;34m'cvw'\u001b[0m\u001b[0;34m,\u001b[0m \u001b[0museSavedResult\u001b[0m\u001b[0;34m=\u001b[0m\u001b[0;32mTrue\u001b[0m\u001b[0;34m)\u001b[0m\u001b[0;34m\u001b[0m\u001b[0m\n",
      "\u001b[0;31mImportError\u001b[0m: No module named 'algorithms'"
     ]
    }
   ],
   "source": [
    "from algorithms.grid_based_dbscan import GridBasedDBSCAN\n",
    "\n",
    "start_time =  datetime.datetime(2017, 4, 4)\n",
    "end_time =  datetime.datetime(2017, 4, 5)\n",
    "gbdb = GBDBSCAN(start_time, end_time, 'cvw', useSavedResult=True)\n",
    "gbdb.save_result()\n",
    "print(gbdb.runtime)"
   ]
  },
  {
   "cell_type": "code",
   "execution_count": null,
   "metadata": {},
   "outputs": [],
   "source": [
    "# Make RTI plots to compare AJ's threshold with traditional threshold\n",
    "gbdb.plot_rti(14, 'Ribiero', save=True)\n",
    "fanplot_start =  datetime.datetime(2017, 4, 4, 4, 0, 0)\n",
    "fanplot_end =  datetime.datetime(2017, 4, 4, 4, 0, 0)\n",
    "gbdb.plot_fanplots(fanplot_start, fanplot_end, save=True)"
   ]
  }
 ],
 "metadata": {
  "kernelspec": {
   "display_name": "Python 2",
   "language": "python",
   "name": "python2"
  },
  "language_info": {
   "codemirror_mode": {
    "name": "ipython",
    "version": 3
   },
   "file_extension": ".py",
   "mimetype": "text/x-python",
   "name": "python",
   "nbconvert_exporter": "python",
   "pygments_lexer": "ipython3",
   "version": "3.5.2"
  }
 },
 "nbformat": 4,
 "nbformat_minor": 1
}
