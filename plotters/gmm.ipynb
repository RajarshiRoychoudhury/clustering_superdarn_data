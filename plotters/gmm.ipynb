{
 "cells": [
  {
   "cell_type": "markdown",
   "metadata": {},
   "source": [
    "# Gaussian Mixture Model\n",
    "\n",
    "GMM runs on 5 features by default: beam, gate, time, velocity, and spectral  \n",
    "width. It performs well overall, even on clusters that are not well-separated   \n",
    "in space and time. However, it will often create clusters that are too high  \n",
    "variance,causing it to pull in scattered points that do not look like they  \n",
    "should be clustered together - see the fanplots in cluster.ipynb. It is also   \n",
    "slow, taking 5-10 minutes for one day of data.  \n",
    "\n",
    "Parameters for each algorithm are set to default values (shown below), but can  \n",
    "be modified using the class constructor.\n",
    "\n",
    "### Optional arguments for GMM class constructor\n",
    "\n",
    "     n_clusters=30\n",
    "         The number of GMM clusters to create.\n",
    "         \n",
    "     cov='full'\n",
    "         The covariance matrix to use for GMM.\n",
    "         See this post for more details: \n",
    "         https://stats.stackexchange.com/questions/326671/different-covariance-types-for-gaussian-mixture-models\n",
    "         \n",
    "     features=['beam', 'gate', 'time', 'vel', 'wid'] \n",
    "         Names of the features for GMM to run on. Can also include 'elv'.\n",
    "         \n",
    "     BoxCox=False\n",
    "         If BoxCox=True, 'wid' and 'vel' will be BoxCox transformed to   \n",
    "         convert them from an exponential distribution to a Gaussian."
   ]
  },
  {
   "cell_type": "code",
   "execution_count": null,
   "metadata": {
    "collapsed": true
   },
   "outputs": [],
   "source": [
    "from algorithms.gmm import GMM\n",
    "import datetime\n",
    "\n",
    "start_time =  datetime.datetime(2017, 4, 4)\n",
    "end_time =  datetime.datetime(2017, 4, 5)\n",
    "gmm = GMM(start_time, end_time, 'cvw', n_clusters=30, useSavedResult=False, BoxCox=False)\n",
    "gmm.save_result()  # Save cluster labels so that GMM doesn't have to run again with these params\n",
    "print(gmm.runtime)"
   ]
  },
  {
   "cell_type": "code",
   "execution_count": null,
   "metadata": {},
   "outputs": [],
   "source": [
    "%matplotlib inline\n",
    "# Make RTI plots to compare AJ's threshold with traditional threshold\n",
    "gmm.plot_rti(14, 'Ribiero', save=True)           # Slooow\n",
    "# Make fanplots of the individual clusters over some time period\n",
    "fanplot_start =  datetime.datetime(2017, 4, 4, 4, 0, 0)\n",
    "fanplot_end =  datetime.datetime(2017, 4, 4, 4, 0, 0)\n",
    "gmm.plot_fanplots(fanplot_start, fanplot_end)"
   ]
  }
 ],
 "metadata": {
  "kernelspec": {
   "display_name": "Python 2",
   "language": "python",
   "name": "python2"
  },
  "language_info": {
   "codemirror_mode": {
    "name": "ipython",
    "version": 3
   },
   "file_extension": ".py",
   "mimetype": "text/x-python",
   "name": "python",
   "nbconvert_exporter": "python",
   "pygments_lexer": "ipython3",
   "version": "3.5.2"
  }
 },
 "nbformat": 4,
 "nbformat_minor": 1
}
