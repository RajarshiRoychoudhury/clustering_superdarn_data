{
 "cells": [
  {
   "cell_type": "markdown",
   "metadata": {},
   "source": [
    "# GridBasedDBSCAN + Gaussian Mixture Model\n",
    "\n",
    "Applies GridBasedDBSCAN on the space-time features, then applies GMM to separate \n",
    "clusters based on velocity and width. Takes 5-10 minutes. Not yet clear if \n",
    "it's any better than DBSCAN + GMM.\n",
    "\n",
    "Parameters for each algorithm are set to default values (shown below), but can \n",
    "be modified using the class constructor.\n",
    "\n",
    "### Optional arguments for GridbasedDBSCAN_GMM class constructor\n",
    "\n",
    "#### GridBasedDBSCAN\n",
    "     f=0.2\n",
    "        Used to calculate the width of the search area at a given range gate:\n",
    "          beam_eps = g / (f * radial_dist / angular_dist)\n",
    "        Best values for our data are typically f=0.1-0.4\n",
    "\n",
    "     g=1\n",
    "         See above formula.\n",
    "         Best values for our data are typically g=1-3\n",
    "         \n",
    "     pts_ratio=0.3\n",
    "         The ratio of (actual observations) / (possible observations) for points\n",
    "         to be considered part of a core cluster.\n",
    "         Since the search area changes size, this parameter is used instead of\n",
    "         DBSCAN's MinPts. Possible observations is the number of points that\n",
    "         could appear within the search area, so pts_ratio=0.3 means 30% of\n",
    "         the search area needs to contain points in order to create a core\n",
    "         cluster.\n",
    "     \n",
    "     dr=45\n",
    "         The distance between each range gate (for SuperDARN radars, 45 km).\n",
    "         Make sure units are consistent with r_init.\n",
    "     \n",
    "     dtheta=3.24\n",
    "         The angular difference between each beam, in degrees.\n",
    "     \n",
    "     r_init=180\n",
    "         The distance to the first range gate (for SuperDARN radars, 180km).\n",
    "         Make sure units are consistent with dr.\n",
    "     \n",
    "     scan_eps=1\n",
    "         Determines the scan number radius of the search area for GridBasedDBSCAN. \n",
    "         If this is 1, two points must come from adjacent scans (i.e., both from \n",
    "         beam 3 in 2 subsequent measurements) to be considered neighbors.\n",
    "         \n",
    "#### GMM\n",
    "     n_clusters=5\n",
    "         The number of GMM clusters to create within each large (>500pts) \n",
    "         GridBasedDBSCAN cluster.\n",
    "         \n",
    "     cov='full'\n",
    "         The covariance matrix to use for GMM.\n",
    "         See this post for more details: \n",
    "         https://stats.stackexchange.com/questions/326671/different-covariance-types-for-gaussian-mixture-models\n",
    "         \n",
    "     features=['beam', 'gate', 'time', 'vel', 'wid'] \n",
    "         Names of the features for GMM to run on. Can also include 'elv'.\n",
    "         \n",
    "     BoxCox=False\n",
    "         If BoxCox=True, 'wid' and 'vel' will be BoxCox transformed to convert \n",
    "         them from an exponential distribution to a Gaussian."
   ]
  },
  {
   "cell_type": "code",
   "execution_count": null,
   "metadata": {
    "collapsed": true
   },
   "outputs": [],
   "source": [
    "from algorithms.grid_based_dbscan_gmm import GridBasedDBSCAN_GMM\n",
    "\n",
    "start_time =  datetime.datetime(2017, 4, 4)\n",
    "end_time =  datetime.datetime(2017, 4, 5)\n",
    "gbdb_gmm = GBDBSCAN_GMM(start_time, end_time, 'cvw', useSavedResult=False)\n",
    "gbdb_gmm.save_result()\n",
    "print(gbdb_gmm.runtime)"
   ]
  },
  {
   "cell_type": "code",
   "execution_count": null,
   "metadata": {},
   "outputs": [],
   "source": [
    "# Make RTI plots to compare AJ's threshold with traditional threshold\n",
    "gbdb_gmm.plot_rti(14, 'Ribiero', save=True)\n",
    "fanplot_start =  datetime.datetime(2017, 4, 4, 4, 0, 0)\n",
    "fanplot_end =  datetime.datetime(2017, 4, 4, 4, 0, 0)\n",
    "gbdb_gmm.plot_fanplots(fanplot_start, fanplot_end, save=True)"
   ]
  }
 ],
 "metadata": {
  "kernelspec": {
   "display_name": "Python 2",
   "language": "python",
   "name": "python2"
  },
  "language_info": {
   "codemirror_mode": {
    "name": "ipython",
    "version": 3
   },
   "file_extension": ".py",
   "mimetype": "text/x-python",
   "name": "python",
   "nbconvert_exporter": "python",
   "pygments_lexer": "ipython3",
   "version": "3.5.2"
  }
 },
 "nbformat": 4,
 "nbformat_minor": 1
}
